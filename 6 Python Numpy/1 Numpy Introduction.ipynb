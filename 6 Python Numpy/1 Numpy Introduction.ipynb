{
 "cells": [
  {
   "cell_type": "markdown",
   "metadata": {},
   "source": [
    "# NumPy Arrays"
   ]
  },
  {
   "cell_type": "markdown",
   "metadata": {},
   "source": [
    "- Numpy stands for Nmerical python which deals with multi dimensional arrays\n",
    "- NumPy is a Python library used for working with arrays or array oriented computions\n",
    "- NumPy is designed for working in domains such as linear algebra, fourier transform, and matrices.\n",
    "- Numpy is designed for scientific computations"
   ]
  },
  {
   "cell_type": "markdown",
   "metadata": {},
   "source": [
    "# Why Numpy when we have lists in python? "
   ]
  },
  {
   "cell_type": "markdown",
   "metadata": {},
   "source": [
    "- NumPy's are faster than lists because it uses a behaviour of locality of reference in Computer Science which means numpy arrays are stored at one continuous place(together on sequence) in memory unlike lists stored(one after another).\n",
    "- NumPy form an array object 50x faster then Python lists and that array is called ndarray.\n",
    "- Numpy provides a lot of supporting functions that make working with ndarray very easy.\n",
    "- Arrays are very frequently used in Machine Learning, where speed and resources are very important."
   ]
  },
  {
   "cell_type": "markdown",
   "metadata": {},
   "source": [
    "# Importing NumPY"
   ]
  },
  {
   "cell_type": "code",
   "execution_count": null,
   "metadata": {},
   "outputs": [],
   "source": [
    "%pip install numpy"
   ]
  },
  {
   "cell_type": "code",
   "execution_count": null,
   "metadata": {},
   "outputs": [],
   "source": [
    "import numpy as np"
   ]
  },
  {
   "cell_type": "markdown",
   "metadata": {},
   "source": []
  },
  {
   "cell_type": "code",
   "execution_count": null,
   "metadata": {},
   "outputs": [],
   "source": [
    "print(\"Hello\")"
   ]
  },
  {
   "cell_type": "code",
   "execution_count": null,
   "metadata": {},
   "outputs": [],
   "source": []
  }
 ],
 "metadata": {
  "kernelspec": {
   "display_name": "Python 3.9.13 ('careerenv')",
   "language": "python",
   "name": "python3"
  },
  "language_info": {
   "name": "python",
   "version": "3.9.13"
  },
  "orig_nbformat": 4,
  "vscode": {
   "interpreter": {
    "hash": "db039812a71d427115355fe87aaf91ef3682f7b83df945d2c07c89d256e6b10a"
   }
  }
 },
 "nbformat": 4,
 "nbformat_minor": 2
}
