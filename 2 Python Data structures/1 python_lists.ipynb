{
  "cells": [
    {
      "cell_type": "markdown",
      "metadata": {
        "id": "NdXy-T5zaAaF"
      },
      "source": [
        "# Lists"
      ]
    },
    {
      "cell_type": "markdown",
      "metadata": {
        "id": "d2abr_4DaAaG"
      },
      "source": [
        "Data Structure:\n",
        "    \n",
        "\n",
        "Data Structure can be defined as the group of data elements which provides an efficient way of storing and organising data( such as numbers, charecters or any other element) in a sequence."
      ]
    },
    {
      "cell_type": "markdown",
      "metadata": {
        "id": "_OkL1n_saAaI"
      },
      "source": [
        "\n",
        "1.   Lists are the most frequently used data structure in python.\n",
        "2.   Lists can store any data types(string, integers, even lists)\n",
        "3.   Items in lists are seperated by comma and enclosed in square brackets [ ]\n",
        "4.   Each element in lists has index value assigned\n",
        "5.   Lists are mutable  which means items can be modified once assigned\n"
      ]
    },
    {
      "cell_type": "markdown",
      "metadata": {
        "collapsed": true,
        "id": "y6E87CNkaAaI"
      },
      "source": [
        "# List Creation"
      ]
    },
    {
      "cell_type": "code",
      "execution_count": 1,
      "metadata": {
        "colab": {
          "base_uri": "https://localhost:8080/"
        },
        "id": "3xDIU3qfaAaJ",
        "outputId": "b05bf8cc-b1ac-49f8-b7f3-4e88963f50c7"
      },
      "outputs": [
        {
          "name": "stdout",
          "output_type": "stream",
          "text": [
            "[1, 'Gangababu', 24, 1.24]\n"
          ]
        }
      ],
      "source": [
        "sampleList = [] #empty list\n",
        "\n",
        "# list of strings\n",
        "list1 = ['apple', 'banana', 'kiwi', 'orange'] \n",
        "\n",
        "#list of integers\n",
        "list1= [1, 2, 3, 4] \n",
        "\n",
        "# list of lists\n",
        "list3 = [[1, 2], [3, 4]] \n",
        "\n",
        "# list of multiple datatypes\n",
        "list4 = [1, 'Gangababu', 24, 1.24] \n",
        "\n",
        "print(list4)\n"
      ]
    },
    {
      "cell_type": "markdown",
      "metadata": {
        "id": "uLzVRw3B016N"
      },
      "source": [
        "# Various methos of Lists"
      ]
    },
    {
      "cell_type": "markdown",
      "metadata": {
        "id": "6CEa5juJaAaP"
      },
      "source": [
        "# List Length"
      ]
    },
    {
      "cell_type": "code",
      "execution_count": 4,
      "metadata": {
        "colab": {
          "base_uri": "https://localhost:8080/"
        },
        "id": "ELTxkoZAaAaQ",
        "outputId": "b8207c39-8495-459a-d11e-480f790df8c4"
      },
      "outputs": [
        {
          "name": "stdout",
          "output_type": "stream",
          "text": [
            "4\n"
          ]
        }
      ],
      "source": [
        "#To find the length of list we use len()\n",
        "list1 = ['apple', 'banana', 'kiwi', 'orange'] \n",
        "\n",
        "print(len(list1))"
      ]
    },
    {
      "cell_type": "markdown",
      "metadata": {},
      "source": [
        "# SUM of List Items"
      ]
    },
    {
      "cell_type": "code",
      "execution_count": 1,
      "metadata": {},
      "outputs": [
        {
          "name": "stdout",
          "output_type": "stream",
          "text": [
            "25\n"
          ]
        }
      ],
      "source": [
        "list1 = [6,7,1,2,3,6] \n",
        "\n",
        "print(sum(list1))"
      ]
    },
    {
      "cell_type": "markdown",
      "metadata": {
        "id": "BWtzSHqEaAaT"
      },
      "source": [
        "# List Append"
      ]
    },
    {
      "cell_type": "code",
      "execution_count": 5,
      "metadata": {
        "colab": {
          "base_uri": "https://localhost:8080/"
        },
        "id": "lgxkiUKRaAaU",
        "outputId": "16dc60cc-14a6-4ea6-e9f3-ea896af29f47"
      },
      "outputs": [
        {
          "name": "stdout",
          "output_type": "stream",
          "text": [
            "['apple', 'banana', 'kiwi', 'orange', 'papaya']\n"
          ]
        }
      ],
      "source": [
        "## append method will add an item at the end of the list\n",
        "list1 = ['apple', 'banana', 'kiwi', 'orange'] \n",
        "\n",
        "list1.append('papaya') \n",
        "\n",
        "print(list1)"
      ]
    },
    {
      "cell_type": "markdown",
      "metadata": {
        "id": "Yk3hugoCaAaX"
      },
      "source": [
        "# List Insert"
      ]
    },
    {
      "cell_type": "code",
      "execution_count": 7,
      "metadata": {
        "colab": {
          "base_uri": "https://localhost:8080/"
        },
        "id": "hxFmwInfaAaY",
        "outputId": "fce60abe-db38-4cda-9dea-371c3722e5e7"
      },
      "outputs": [
        {
          "name": "stdout",
          "output_type": "stream",
          "text": [
            "['papaya', 'apple', 'banana']\n"
          ]
        }
      ],
      "source": [
        "#syntax: lst.insert(x, y) \n",
        "# x, y says x is the index number and y is the item\n",
        "\n",
        "\n",
        "list1 = ['apple', 'banana'] \n",
        "\n",
        "list1.insert(0,'papaya') ## papaya is inserted in 0th index pushing apple index to 1\n",
        "\n",
        "print(list1)\n"
      ]
    },
    {
      "cell_type": "markdown",
      "metadata": {
        "id": "YcGKZ45BaAab"
      },
      "source": [
        "# List Remove"
      ]
    },
    {
      "cell_type": "code",
      "execution_count": 8,
      "metadata": {
        "colab": {
          "base_uri": "https://localhost:8080/"
        },
        "id": "Qz9E9r6IaAac",
        "outputId": "5db3dae3-7d2f-4232-92a6-b49c6100b9f2"
      },
      "outputs": [
        {
          "name": "stdout",
          "output_type": "stream",
          "text": [
            "['banana', 'kiwi', 'orange', 'apple']\n"
          ]
        }
      ],
      "source": [
        "#syntax: lst.remove(x)\n",
        "#x says the item which has to be removed , In list first occurance will be removed if we have duplicates \n",
        "\n",
        "list1 = ['apple', 'banana', 'kiwi', 'orange','apple'] \n",
        "\n",
        "list1.remove('apple') \n",
        "\n",
        "print(list1)"
      ]
    },
    {
      "cell_type": "markdown",
      "metadata": {
        "id": "gP3lb_hlaAai"
      },
      "source": [
        "# List Append & Extend"
      ]
    },
    {
      "cell_type": "code",
      "execution_count": 11,
      "metadata": {
        "colab": {
          "base_uri": "https://localhost:8080/"
        },
        "id": "AhQZ_S5WaAaj",
        "outputId": "5c2a5e17-dd16-4af0-ceac-0c8d70eefb0e"
      },
      "outputs": [
        {
          "name": "stdout",
          "output_type": "stream",
          "text": [
            "['banana', 'kiwi', 'orange', 'apple', ['papaya', 'dragon fruit']]\n",
            "['banana', 'kiwi', 'orange', 'apple', ['papaya', 'dragon fruit'], 'Sapota']\n"
          ]
        }
      ],
      "source": [
        "list1 = ['banana', 'kiwi', 'orange', 'apple']\n",
        "\n",
        "\n",
        "list2 = ['papaya', 'dragon fruit']\n",
        "\n",
        "#append function is used to append the item or list to the current list\n",
        "list1.append(list2)\n",
        "\n",
        "print(list1)\n",
        "\n",
        "list1.append('Sapota')\n",
        "\n",
        "print(list1)"
      ]
    },
    {
      "cell_type": "code",
      "execution_count": 13,
      "metadata": {
        "colab": {
          "base_uri": "https://localhost:8080/"
        },
        "id": "-eDRYerEaAan",
        "outputId": "26f1ac96-e20f-4787-b1cb-d3e08cf729ac"
      },
      "outputs": [
        {
          "name": "stdout",
          "output_type": "stream",
          "text": [
            "['banana', 'kiwi', 'orange', 'apple', 'papaya', 'dragon fruit']\n"
          ]
        }
      ],
      "source": [
        "list1 = ['banana', 'kiwi', 'orange', 'apple']\n",
        "\n",
        "\n",
        "list2 = ['papaya', 'dragon fruit']\n",
        "\n",
        "#extend function does adds the only items of second list at the end of the list 1\n",
        "list1.extend(list2)\n",
        "\n",
        "print(list1)"
      ]
    },
    {
      "cell_type": "markdown",
      "metadata": {
        "id": "HRsgFVblaAar"
      },
      "source": [
        "# List Delete"
      ]
    },
    {
      "cell_type": "code",
      "execution_count": 14,
      "metadata": {
        "colab": {
          "base_uri": "https://localhost:8080/"
        },
        "id": "E0TcvgzCaAas",
        "outputId": "ae082b44-4016-4de2-fb4d-eaf0168a44f2"
      },
      "outputs": [
        {
          "name": "stdout",
          "output_type": "stream",
          "text": [
            "['banana', 'orange', 'apple', 'papaya']\n",
            "orange\n",
            "['banana', 'apple', 'papaya']\n"
          ]
        }
      ],
      "source": [
        "#del to remove item based on index position\n",
        "\n",
        "list1 = ['banana', 'kiwi', 'orange', 'apple','papaya']\n",
        "\n",
        "del list1[1]\n",
        "print(list1)\n",
        "\n",
        "#or we can use pop() method\n",
        "a = list1.pop(1)\n",
        "print(a)\n",
        "\n",
        "print(list1)"
      ]
    },
    {
      "cell_type": "code",
      "execution_count": 15,
      "metadata": {
        "colab": {
          "base_uri": "https://localhost:8080/"
        },
        "id": "QZy8YqvraAav",
        "outputId": "61eae9a8-7e44-4796-9479-53ca5be97251"
      },
      "outputs": [
        {
          "name": "stdout",
          "output_type": "stream",
          "text": [
            "['banana', 'apple', 'papaya']\n"
          ]
        }
      ],
      "source": [
        "\n",
        "#remove an item from list based on item\n",
        "list1 = ['banana', 'orange', 'apple', 'papaya']\n",
        "\n",
        "#remove an item from list\n",
        "list1.remove('orange')\n",
        "\n",
        "print(list1)"
      ]
    },
    {
      "cell_type": "markdown",
      "metadata": {
        "id": "B3taZUwqaAax"
      },
      "source": [
        "# List related keywords in Python"
      ]
    },
    {
      "cell_type": "code",
      "execution_count": 16,
      "metadata": {
        "colab": {
          "base_uri": "https://localhost:8080/"
        },
        "id": "KnvMpRFCaAay",
        "outputId": "70144da8-e8e5-4523-a41a-5a8321d60534"
      },
      "outputs": [
        {
          "name": "stdout",
          "output_type": "stream",
          "text": [
            "Yeah Orange exists in the list1\n",
            "Sapota doesnt exists in list1\n"
          ]
        }
      ],
      "source": [
        "#keyword 'in' is used to test if an item is in a list\n",
        "list1 = ['banana', 'orange', 'apple', 'papaya']\n",
        "\n",
        "if 'orange' in list1:\n",
        "    print('Yeah Orange exists in the list1')\n",
        "\n",
        "#keyword 'not' can combined with 'in'\n",
        "if 'Sapota' not in list1:\n",
        "    print('Sapota doesnt exists in list1')"
      ]
    },
    {
      "cell_type": "markdown",
      "metadata": {
        "id": "ikBpRbI9aAa2"
      },
      "source": [
        "# List Reverse"
      ]
    },
    {
      "cell_type": "code",
      "execution_count": 18,
      "metadata": {
        "colab": {
          "base_uri": "https://localhost:8080/"
        },
        "id": "RQqzW-mEaAa3",
        "outputId": "52306284-4bd7-467b-e858-6b5bdbeb3349"
      },
      "outputs": [
        {
          "name": "stdout",
          "output_type": "stream",
          "text": [
            "['papaya', 'apple', 'orange', 'banana']\n"
          ]
        }
      ],
      "source": [
        "#reverse is reverses the entire list items\n",
        "list1 = ['banana', 'orange', 'apple', 'papaya']\n",
        "\n",
        "list1.reverse()\n",
        "\n",
        "print(list1)"
      ]
    },
    {
      "cell_type": "markdown",
      "metadata": {
        "id": "o9lI--gRaAa7"
      },
      "source": [
        "# List Sorting"
      ]
    },
    {
      "cell_type": "markdown",
      "metadata": {
        "id": "lUTiW5mcaAa8"
      },
      "source": [
        "sorted(list) is the method that easily sort the list <br>\n",
        "\n",
        "\n",
        "\n",
        "\n",
        "**Sorted(input list)**\n",
        "\n",
        "**inputs** :list <br>\n",
        "**output** :sorted list\n",
        "\n",
        "\n",
        "\n",
        "\n",
        "original list is unchanged \n",
        "\n",
        "\n",
        "The sorted() optional argument reverse=True, e.g. sorted(list, reverse=True), \n",
        "makes it sort backwards."
      ]
    },
    {
      "cell_type": "code",
      "execution_count": 19,
      "metadata": {
        "colab": {
          "base_uri": "https://localhost:8080/"
        },
        "id": "LegBovHtaAa9",
        "outputId": "79ee2f53-1463-45c8-9f60-698f418ce42a"
      },
      "outputs": [
        {
          "name": "stdout",
          "output_type": "stream",
          "text": [
            "Sorted list : [1, 2, 3, 6, 8]\n",
            "Original list:  [3, 1, 6, 2, 8]\n"
          ]
        }
      ],
      "source": [
        "#create a list with numbers\n",
        "numbers = [3, 1, 6, 2, 8]\n",
        "\n",
        "sorted_lst = sorted(numbers)\n",
        "\n",
        "\n",
        "print(\"Sorted list :\", sorted_lst)\n",
        "\n",
        "#original list remain unchanged\n",
        "print(\"Original list: \", numbers)"
      ]
    },
    {
      "cell_type": "code",
      "execution_count": 20,
      "metadata": {
        "colab": {
          "base_uri": "https://localhost:8080/"
        },
        "id": "qT_4cI63aAbB",
        "outputId": "254cd228-6bb0-4726-cf78-e5e7cf51f8ae"
      },
      "outputs": [
        {
          "name": "stdout",
          "output_type": "stream",
          "text": [
            "Reverse sorted list : [8, 6, 3, 2, 1]\n",
            "Original list : [3, 1, 6, 2, 8]\n"
          ]
        }
      ],
      "source": [
        "#print a list in reverse sorted order\n",
        "print(\"Reverse sorted list :\", sorted(numbers, reverse=True))\n",
        "\n",
        "#orginal list remain unchanged\n",
        "print(\"Original list :\",  numbers)"
      ]
    },
    {
      "cell_type": "code",
      "execution_count": 21,
      "metadata": {
        "colab": {
          "base_uri": "https://localhost:8080/"
        },
        "id": "7YLaz7thaAbF",
        "outputId": "92d5669e-88c9-4852-febd-aa662df7a086"
      },
      "outputs": [
        {
          "name": "stdout",
          "output_type": "stream",
          "text": [
            "Sorted list:  [1, 4.2, 5, 5, 20]\n"
          ]
        }
      ],
      "source": [
        "lst = [1, 20, 5, 5, 4.2]\n",
        "\n",
        "#sort the list and stored in itself\n",
        "lst.sort()\n",
        "\n",
        "# add element 'a' to the list to show an error\n",
        "\n",
        "print(\"Sorted list: \", lst)"
      ]
    },
    {
      "cell_type": "code",
      "execution_count": 23,
      "metadata": {
        "colab": {
          "base_uri": "https://localhost:8080/",
          "height": 200
        },
        "id": "WfPzBE_-aAbI",
        "outputId": "bd2d06d0-ac75-41ed-d30e-1bbbbf689fb6"
      },
      "outputs": [
        {
          "ename": "TypeError",
          "evalue": "ignored",
          "output_type": "error",
          "traceback": [
            "\u001b[0;31m---------------------------------------------------------------------------\u001b[0m",
            "\u001b[0;31mTypeError\u001b[0m                                 Traceback (most recent call last)",
            "\u001b[0;32m<ipython-input-23-9049349684b1>\u001b[0m in \u001b[0;36m<module>\u001b[0;34m\u001b[0m\n\u001b[1;32m      1\u001b[0m \u001b[0;31m# sort list with element of different datatypes doesnot works\u001b[0m\u001b[0;34m\u001b[0m\u001b[0;34m\u001b[0m\u001b[0;34m\u001b[0m\u001b[0m\n\u001b[1;32m      2\u001b[0m \u001b[0mlst\u001b[0m \u001b[0;34m=\u001b[0m \u001b[0;34m[\u001b[0m\u001b[0;36m1\u001b[0m\u001b[0;34m,\u001b[0m \u001b[0;36m20\u001b[0m\u001b[0;34m,\u001b[0m \u001b[0;34m'b'\u001b[0m\u001b[0;34m,\u001b[0m \u001b[0;36m5\u001b[0m\u001b[0;34m,\u001b[0m \u001b[0;34m'a'\u001b[0m\u001b[0;34m]\u001b[0m\u001b[0;34m\u001b[0m\u001b[0;34m\u001b[0m\u001b[0m\n\u001b[0;32m----> 3\u001b[0;31m \u001b[0mprint\u001b[0m\u001b[0;34m(\u001b[0m\u001b[0mlst\u001b[0m\u001b[0;34m.\u001b[0m\u001b[0msort\u001b[0m\u001b[0;34m(\u001b[0m\u001b[0;34m)\u001b[0m\u001b[0;34m)\u001b[0m\u001b[0;34m\u001b[0m\u001b[0;34m\u001b[0m\u001b[0m\n\u001b[0m",
            "\u001b[0;31mTypeError\u001b[0m: '<' not supported between instances of 'str' and 'int'"
          ]
        }
      ],
      "source": [
        "# sort list with element of different datatypes doesnot works\n",
        "lst = [1, 20, 'b', 5, 'a']\n",
        "print(lst.sort()) \n"
      ]
    },
    {
      "cell_type": "markdown",
      "metadata": {
        "id": "QHzMSP_I8Fsm"
      },
      "source": [
        "# converting String to List using split method"
      ]
    },
    {
      "cell_type": "code",
      "execution_count": 42,
      "metadata": {
        "colab": {
          "base_uri": "https://localhost:8080/"
        },
        "id": "kgZaknwH8Er3",
        "outputId": "4e385bbc-2fb1-4392-d973-f2db02c0f1aa"
      },
      "outputs": [
        {
          "name": "stdout",
          "output_type": "stream",
          "text": [
            "['Welcome', 'to', 'Lists']\n",
            "['Orange', 'Papaya', 'Lemon']\n"
          ]
        }
      ],
      "source": [
        "string_val=\"Welcome to Lists\"\n",
        "converted_to_list=string_val.split(' ')\n",
        "print(converted_to_list)\n",
        "\n",
        "string_val=\"Orange_Papaya_Lemon\"\n",
        "converted_to_list=string_val.split('_')\n",
        "print(converted_to_list)"
      ]
    },
    {
      "cell_type": "markdown",
      "metadata": {
        "id": "eI34dleeaAbK"
      },
      "source": [
        "# List Having Multiple References"
      ]
    },
    {
      "cell_type": "code",
      "execution_count": null,
      "metadata": {
        "id": "BcmPLhR6aAbM",
        "outputId": "bdfc1ccb-6af9-416a-c1a3-53823789de67"
      },
      "outputs": [
        {
          "name": "stdout",
          "output_type": "stream",
          "text": [
            "Original list:  [1, 2, 3, 4, 5, 6]\n"
          ]
        }
      ],
      "source": [
        "lst = [1, 2, 3, 4, 5]\n",
        "abc = lst\n",
        "abc.append(6)\n",
        "\n",
        "#print original list\n",
        "print(\"Original list: \", lst)"
      ]
    },
    {
      "cell_type": "markdown",
      "metadata": {
        "id": "i0FJbejqaAbU"
      },
      "source": [
        "# List Indexing"
      ]
    },
    {
      "cell_type": "markdown",
      "metadata": {
        "id": "_ZJom4VxaAbW"
      },
      "source": [
        "Each item in the list has an assigned index value starting from 0.\n",
        "\n",
        "Accessing elements in a list is called indexing."
      ]
    },
    {
      "cell_type": "code",
      "execution_count": 35,
      "metadata": {
        "colab": {
          "base_uri": "https://localhost:8080/"
        },
        "id": "_vYi0oRbaAbW",
        "outputId": "0006349b-e3d0-4b07-fd4f-b2fe70f9de3c"
      },
      "outputs": [
        {
          "name": "stdout",
          "output_type": "stream",
          "text": [
            "2\n",
            "3\n"
          ]
        }
      ],
      "source": [
        "lst = [1, 2, 3, 4]\n",
        "print(lst[1]) #print second element\n",
        "\n",
        "#print last element using negative index\n",
        "print(lst[-2])"
      ]
    },
    {
      "cell_type": "markdown",
      "metadata": {
        "id": "ihTfiGnGaAba"
      },
      "source": [
        "# List Slicing"
      ]
    },
    {
      "cell_type": "markdown",
      "metadata": {
        "id": "HJ6BnCxJaAba"
      },
      "source": [
        "Accessing parts of segments is called slicing. \n",
        "\n",
        "The key point to remember is that the :end value represents the first value that \n",
        "is not in the selected slice. "
      ]
    },
    {
      "cell_type": "code",
      "execution_count": 26,
      "metadata": {
        "colab": {
          "base_uri": "https://localhost:8080/"
        },
        "id": "yadzqSHAaAbc",
        "outputId": "7d5000f7-268c-467c-b852-9808a6dbb14b"
      },
      "outputs": [
        {
          "name": "stdout",
          "output_type": "stream",
          "text": [
            "[10, 20, 30, 40, 50, 60, 70, 80]\n",
            "[10, 20, 30, 40]\n"
          ]
        }
      ],
      "source": [
        "numbers = [10, 20, 30, 40, 50,60,70,80]\n",
        "\n",
        "#print all numbers\n",
        "print(numbers[:]) \n",
        "\n",
        "#print from index 0 to index 3\n",
        "print(numbers[0:4])\n"
      ]
    },
    {
      "cell_type": "code",
      "execution_count": null,
      "metadata": {
        "id": "ESlZQ2aNaAbf",
        "outputId": "b62f05e9-031d-40de-d785-043d59160e45"
      },
      "outputs": [
        {
          "name": "stdout",
          "output_type": "stream",
          "text": [
            "[10, 20, 30, 40, 50, 60, 70, 80]\n",
            "[10, 30, 50, 70]\n",
            "[30, 50, 70]\n"
          ]
        }
      ],
      "source": [
        "print (numbers)\n",
        "#print alternate elements in a list\n",
        "print(numbers[::2])\n",
        "\n",
        "\n",
        "#print elemnts start from 0 through rest of the list\n",
        "print(numbers[2::2])\n"
      ]
    },
    {
      "cell_type": "markdown",
      "metadata": {
        "id": "69BXgb4YaAbh"
      },
      "source": [
        "# List extend using \"+\""
      ]
    },
    {
      "cell_type": "code",
      "execution_count": 24,
      "metadata": {
        "colab": {
          "base_uri": "https://localhost:8080/"
        },
        "id": "paZsLKU7aAbh",
        "outputId": "90e2a6e8-9f8a-4c92-a2b0-a1160890c06c"
      },
      "outputs": [
        {
          "name": "stdout",
          "output_type": "stream",
          "text": [
            "[1, 2, 3, 4, 'rohit', 'virat', 'dhoni', 'surya']\n"
          ]
        }
      ],
      "source": [
        "lst1 = [1, 2, 3, 4]\n",
        "lst2 = ['rohit', 'virat', 'dhoni', 'surya']\n",
        "new_lst = lst1 + lst2\n",
        "\n",
        "print(new_lst)"
      ]
    },
    {
      "cell_type": "markdown",
      "metadata": {
        "id": "zR8AY0YCaAbk"
      },
      "source": [
        "# List Count"
      ]
    },
    {
      "cell_type": "code",
      "execution_count": 25,
      "metadata": {
        "colab": {
          "base_uri": "https://localhost:8080/"
        },
        "id": "xLWcn0TcaAbl",
        "outputId": "cfe7dd03-ea1a-4f17-a304-4edec58eeed7"
      },
      "outputs": [
        {
          "name": "stdout",
          "output_type": "stream",
          "text": [
            "2\n",
            "2\n"
          ]
        }
      ],
      "source": [
        "numbers = [1, 2, 3, 1, 3, 4, 2, 5]\n",
        "\n",
        "#frequency of 1 in a list\n",
        "print(numbers.count(1))\n",
        "\n",
        "#frequency of 3 in a list\n",
        "print(numbers.count(3))"
      ]
    },
    {
      "cell_type": "markdown",
      "metadata": {
        "id": "Ttuq4WbPaAbn"
      },
      "source": [
        "# List Looping"
      ]
    },
    {
      "cell_type": "code",
      "execution_count": null,
      "metadata": {
        "id": "gGBIUhMvaAbn",
        "outputId": "b09c4261-5dd9-4bf0-f94f-a0590670d7cf"
      },
      "outputs": [
        {
          "name": "stdout",
          "output_type": "stream",
          "text": [
            "one\n",
            "two\n",
            "three\n",
            "four\n"
          ]
        }
      ],
      "source": [
        "#loop through a list\n",
        "\n",
        "lst = ['one', 'two', 'three', 'four']\n",
        "\n",
        "for ele in lst:\n",
        "    print(ele)"
      ]
    },
    {
      "cell_type": "markdown",
      "metadata": {
        "id": "-EZO9D31aAbq"
      },
      "source": [
        "# List Comprehensions"
      ]
    },
    {
      "cell_type": "markdown",
      "metadata": {
        "id": "y8DXRBM_aAbq"
      },
      "source": [
        "List comprehensions provide a concise way to create lists. \n",
        "\n",
        "Common applications are to make new lists where each element is the result of some operations applied to each member of another sequence or iterable, or to create a subsequence of those elements that satisfy a certain condition."
      ]
    },
    {
      "cell_type": "code",
      "execution_count": null,
      "metadata": {
        "id": "-rHP7zw_aAbr",
        "outputId": "5adc1c49-9633-47bb-a83a-bf144dd1bbbb"
      },
      "outputs": [
        {
          "name": "stdout",
          "output_type": "stream",
          "text": [
            "[0, 1, 4, 9, 16, 25, 36, 49, 64, 81]\n"
          ]
        }
      ],
      "source": [
        "# without list comprehension\n",
        "squares = []\n",
        "for i in range(10):\n",
        "    squares.append(i**2)   #list append\n",
        "print(squares)"
      ]
    },
    {
      "cell_type": "code",
      "execution_count": null,
      "metadata": {
        "id": "CS6fvT8daAbu",
        "outputId": "87959059-b9d0-41bc-bb7d-3e9f3ed14995"
      },
      "outputs": [
        {
          "name": "stdout",
          "output_type": "stream",
          "text": [
            "[0, 1, 4, 9, 16, 25, 36, 49, 64, 81]\n"
          ]
        }
      ],
      "source": [
        "#using list comprehension\n",
        "squares = [i**2 for i in range(10)]\n",
        "print(squares)"
      ]
    },
    {
      "cell_type": "code",
      "execution_count": null,
      "metadata": {
        "id": "N-v4Y9KDaAbw",
        "outputId": "f13d09a5-f6fd-41f7-b6d0-2af43f040afd"
      },
      "outputs": [
        {
          "name": "stdout",
          "output_type": "stream",
          "text": [
            "[-20, -40, 20, 40, 100]\n",
            "[10, 20, 50]\n",
            "[(0, 0), (1, 1), (2, 4), (3, 9), (4, 16), (5, 25), (6, 36), (7, 49), (8, 64), (9, 81)]\n"
          ]
        }
      ],
      "source": [
        "#example\n",
        "\n",
        "lst = [-10, -20, 10, 20, 50]\n",
        "\n",
        "#create a new list with values doubled\n",
        "new_lst = [i*2 for i in lst]\n",
        "print(new_lst)\n",
        "\n",
        "#filter the list to exclude negative numbers\n",
        "new_lst = [i for i in lst if i >= 0]\n",
        "print(new_lst)\n",
        "\n",
        "\n",
        "#create a list of tuples like (number, square_of_number)\n",
        "new_lst = [(i, i**2) for i in range(10)]\n",
        "print(new_lst)"
      ]
    },
    {
      "cell_type": "markdown",
      "metadata": {
        "id": "Sp6JeODZaAb5"
      },
      "source": [
        "# Nested List Comprehensions"
      ]
    },
    {
      "cell_type": "code",
      "execution_count": null,
      "metadata": {
        "id": "I7FzVx3CaAb5",
        "outputId": "20d171d1-25eb-4f5d-b01f-30639b8e0df6"
      },
      "outputs": [
        {
          "name": "stdout",
          "output_type": "stream",
          "text": [
            "[[1, 5, 9], [2, 6, 10], [3, 7, 11], [4, 8, 12]]\n"
          ]
        }
      ],
      "source": [
        "#let's suppose we have a matrix\n",
        "\n",
        "matrix = [\n",
        "    [1, 2, 3, 4],\n",
        "    [5, 6, 7, 8],\n",
        "    [9, 10, 11, 12]\n",
        "]\n",
        "\n",
        "#transpose of a matrix without list comprehension\n",
        "transposed = []\n",
        "for i in range(4):\n",
        "    lst = []\n",
        "    for row in matrix:\n",
        "        lst.append(row[i])\n",
        "    transposed.append(lst)\n",
        "\n",
        "print(transposed)\n"
      ]
    },
    {
      "cell_type": "code",
      "execution_count": null,
      "metadata": {
        "id": "bc0Ij-kaaAb8",
        "outputId": "1005a34e-8982-46ab-9357-f7be29e16f61"
      },
      "outputs": [
        {
          "name": "stdout",
          "output_type": "stream",
          "text": [
            "[[1, 5, 9], [2, 6, 10], [3, 7, 11], [4, 8, 12]]\n"
          ]
        }
      ],
      "source": [
        "#with list comprehension\n",
        "transposed = [[row[i] for row in matrix] for i in range(4)]\n",
        "print(transposed)"
      ]
    },
    {
      "cell_type": "code",
      "execution_count": null,
      "metadata": {
        "id": "__DT4BWEaAb_"
      },
      "outputs": [],
      "source": []
    }
  ],
  "metadata": {
    "colab": {
      "collapsed_sections": [],
      "provenance": []
    },
    "kernelspec": {
      "display_name": "Python 3.9.13 ('base')",
      "language": "python",
      "name": "python3"
    },
    "language_info": {
      "codemirror_mode": {
        "name": "ipython",
        "version": 3
      },
      "file_extension": ".py",
      "mimetype": "text/x-python",
      "name": "python",
      "nbconvert_exporter": "python",
      "pygments_lexer": "ipython3",
      "version": "3.9.13"
    },
    "vscode": {
      "interpreter": {
        "hash": "a71a9e4fb054fff428071484f7faa898cb9ecb31a518fe88e3463da9af879578"
      }
    }
  },
  "nbformat": 4,
  "nbformat_minor": 0
}
