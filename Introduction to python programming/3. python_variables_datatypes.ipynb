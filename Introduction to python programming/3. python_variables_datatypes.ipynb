{
  "nbformat": 4,
  "nbformat_minor": 0,
  "metadata": {
    "kernelspec": {
      "display_name": "Python 2",
      "language": "python",
      "name": "python2"
    },
    "language_info": {
      "codemirror_mode": {
        "name": "ipython",
        "version": 2
      },
      "file_extension": ".py",
      "mimetype": "text/x-python",
      "name": "python",
      "nbconvert_exporter": "python",
      "pygments_lexer": "ipython2",
      "version": "2.7.10"
    },
    "colab": {
      "provenance": [],
      "collapsed_sections": []
    }
  },
  "cells": [
    {
      "cell_type": "markdown",
      "metadata": {
        "id": "hKd6pbVWjAhO"
      },
      "source": [
        "# python Variables"
      ]
    },
    {
      "cell_type": "markdown",
      "metadata": {
        "id": "Xci3KHBejAhQ"
      },
      "source": [
        "A variable used to store some data (value) in a location in memory .\n",
        "\n",
        "The rules for writing a variable name  is similar to identifiers.\n",
        "variables are given unique names to differentiate between different memory locations. \n",
        "In python we dont have to declare any data type of a variable like int,string, float etc and if we simply assign a value to a variable then it will exist\n"
      ]
    },
    {
      "cell_type": "markdown",
      "metadata": {
        "id": "X0eXBbyQjAhS"
      },
      "source": [
        "# Variable Assignments"
      ]
    },
    {
      "cell_type": "code",
      "metadata": {
        "id": "EmLqQ8LdjAhT"
      },
      "source": [
        "#We use the assignment operator (=) to assign values to a variable\n",
        "\n",
        "x = 100\n",
        "y = 125.78\n",
        "z = \"Python for ML\""
      ],
      "execution_count": 1,
      "outputs": []
    },
    {
      "cell_type": "markdown",
      "metadata": {
        "id": "OmSXAyFWjAhZ"
      },
      "source": [
        "# Multiple Assignments"
      ]
    },
    {
      "cell_type": "code",
      "metadata": {
        "id": "TSdYQvngjAha"
      },
      "source": [
        "# variables are seperated with commas and values also for mulyiple assignments\n",
        "x,y,z = 100, 125.5, \"Python for ML\""
      ],
      "execution_count": 5,
      "outputs": []
    },
    {
      "cell_type": "code",
      "metadata": {
        "id": "k4uwhrsojAhe"
      },
      "source": [
        "#assigning the same value to multiple variables at once\n",
        "x = y = z = \"Python for Datascience\" "
      ],
      "execution_count": 4,
      "outputs": []
    },
    {
      "cell_type": "markdown",
      "metadata": {
        "id": "LoRDnRcAjAhh"
      },
      "source": [
        "# Storage Locations"
      ]
    },
    {
      "cell_type": "code",
      "metadata": {
        "id": "N18ORoyqjAhi",
        "colab": {
          "base_uri": "https://localhost:8080/"
        },
        "outputId": "e75fb945-3c5d-46b7-9ac0-448f625b9376"
      },
      "source": [
        "#Variable storage locations\n",
        "a= 3\n",
        "\n",
        "#id() prints address of variable a\n",
        "print(id(a))               "
      ],
      "execution_count": 10,
      "outputs": [
        {
          "output_type": "stream",
          "name": "stdout",
          "text": [
            "11126752\n"
          ]
        }
      ]
    },
    {
      "cell_type": "code",
      "metadata": {
        "id": "DzXApOnYjAhq",
        "colab": {
          "base_uri": "https://localhost:8080/"
        },
        "outputId": "026eb5f4-53e3-4e19-a8dd-cdd00eaf039a"
      },
      "source": [
        "b = 3\n",
        "\n",
        "print(id(b))               #print address of variable b"
      ],
      "execution_count": 11,
      "outputs": [
        {
          "output_type": "stream",
          "name": "stdout",
          "text": [
            "11126752\n"
          ]
        }
      ]
    },
    {
      "cell_type": "markdown",
      "metadata": {
        "id": "OJ2zfFRCjAhu"
      },
      "source": [
        "*Observation*:\n",
        "\n",
        "x and y points to same *memory* location since value of a and b is 3\n",
        "    "
      ]
    },
    {
      "cell_type": "code",
      "metadata": {
        "id": "TmRjWWdkjAhv",
        "colab": {
          "base_uri": "https://localhost:8080/"
        },
        "outputId": "2660a3be-629d-46ea-ec91-7fdfcc344afc"
      },
      "source": [
        "# changing the b value will differ storage location if you observe\n",
        "b = 2\n",
        "#print address of variable b\n",
        "print(id(b))              "
      ],
      "execution_count": 12,
      "outputs": [
        {
          "output_type": "stream",
          "name": "stdout",
          "text": [
            "11126720\n"
          ]
        }
      ]
    },
    {
      "cell_type": "markdown",
      "metadata": {
        "id": "8HgZqTvSjAh0"
      },
      "source": [
        "# Data Types "
      ]
    },
    {
      "cell_type": "markdown",
      "metadata": {
        "id": "ts-W3G1DjAh3"
      },
      "source": [
        "In Python every value has a datatype. As everything is an object in Python programming, datatypes are considered as  classes and variables are instance (object) of these classes.\n",
        "\n",
        "Here are the list of data types\n",
        "\n",
        "\n",
        "1.   Numbers\n",
        "2.   Boolean\n",
        "3.   Strings\n",
        "4.   List\n",
        "5.   Tuple\n",
        "6.   Dictionaries\n",
        "7.   set\n",
        "\n",
        "\n",
        "\n"
      ]
    },
    {
      "cell_type": "markdown",
      "metadata": {
        "id": "lUrSkm7UjAh4"
      },
      "source": [
        "# Numbers"
      ]
    },
    {
      "cell_type": "markdown",
      "metadata": {
        "id": "H4_fLR0BjAiP"
      },
      "source": [
        "Any value that is numeric can be considered as python numbers and without decimal points is an integer , with decimal values is a float and with an imaginary values then complex.\n",
        "They are defined as int, float and complex class in Python.\n",
        "\n",
        "We can use the \n",
        "**type()** function to know the class of a variable or a value belongs to which class </br>\n",
        "**the isinstance()** function to check if an object belongs to a particular class.\n",
        "\n"
      ]
    },
    {
      "cell_type": "code",
      "metadata": {
        "id": "WwLgel3TjAiR",
        "outputId": "44037a79-01da-42c8-d6c6-e1df8fc38de3",
        "colab": {
          "base_uri": "https://localhost:8080/"
        }
      },
      "source": [
        "#implicitly set to integer\n",
        "a = 5                               \n",
        "print(a, \" is of type\", type(a))"
      ],
      "execution_count": 14,
      "outputs": [
        {
          "output_type": "stream",
          "name": "stdout",
          "text": [
            "5  is of type <class 'int'>\n"
          ]
        }
      ]
    },
    {
      "cell_type": "code",
      "metadata": {
        "id": "VFmFyuKljAiY",
        "outputId": "80bcca7a-d6e8-4f1a-e95c-eb538f7d8d47",
        "colab": {
          "base_uri": "https://localhost:8080/"
        }
      },
      "source": [
        "# when a decimal point is added then data type is changed to float\n",
        "a = 2.5                            \n",
        "print(a, \" is of type\", type(a))"
      ],
      "execution_count": 15,
      "outputs": [
        {
          "output_type": "stream",
          "name": "stdout",
          "text": [
            "2.5  is of type <class 'float'>\n"
          ]
        }
      ]
    },
    {
      "cell_type": "code",
      "metadata": {
        "id": "ylZA0ZPzjAig",
        "outputId": "3819e894-0caf-4c99-d761-267b33101a19",
        "colab": {
          "base_uri": "https://localhost:8080/"
        }
      },
      "source": [
        "#data type is changed to complex number\n",
        "a = 1 + 2j                          \n",
        "print(a, \" is complex number?\") \n",
        "print(isinstance(1+2j, complex))"
      ],
      "execution_count": 16,
      "outputs": [
        {
          "output_type": "stream",
          "name": "stdout",
          "text": [
            "(1+2j)  is complex number?\n",
            "True\n"
          ]
        }
      ]
    },
    {
      "cell_type": "markdown",
      "metadata": {
        "id": "OzdVm2D-jAim"
      },
      "source": [
        "# Boolean"
      ]
    },
    {
      "cell_type": "markdown",
      "metadata": {
        "id": "JDaSahNgjAio"
      },
      "source": [
        " Boolean always represents  **True** or **False**"
      ]
    },
    {
      "cell_type": "code",
      "metadata": {
        "id": "QcWk4rwnjAip",
        "outputId": "4cf05833-5569-437d-a38b-07402bba8bac"
      },
      "source": [
        "a = True                          #a is a boolean type\n",
        "print(type(a))"
      ],
      "execution_count": null,
      "outputs": [
        {
          "output_type": "stream",
          "text": [
            "<type 'bool'>\n"
          ],
          "name": "stdout"
        }
      ]
    },
    {
      "cell_type": "markdown",
      "metadata": {
        "id": "FlyZKNjVjAiz"
      },
      "source": [
        "# Python Strings"
      ]
    },
    {
      "cell_type": "markdown",
      "metadata": {
        "id": "by_In521jAjD"
      },
      "source": [
        "String is sequence of Unicode characters. \n",
        "\n",
        "We can use single quotes or double quotes to represent strings. \n",
        "\n",
        "Multi-line strings can be denoted using triple quotes, ''' or \"\"\"."
      ]
    },
    {
      "cell_type": "markdown",
      "metadata": {
        "id": "A8ER_dyljAjE"
      },
      "source": [
        "A string in Python consists of a series or sequence of characters - letters, numbers, and special characters. \n",
        "\n",
        "Strings can be indexed - often synonymously called subscripted as well. \n",
        "\n",
        "Similar to C, the first character of a string has the index 0."
      ]
    },
    {
      "cell_type": "code",
      "metadata": {
        "id": "1gMkenFmjAjF",
        "outputId": "0baeb5bd-b3d0-402a-94cd-7fa2a3d9b723",
        "colab": {
          "base_uri": "https://localhost:8080/"
        }
      },
      "source": [
        "s = \"Python is a simple programming language\"\n",
        "print(s)"
      ],
      "execution_count": 17,
      "outputs": [
        {
          "output_type": "stream",
          "name": "stdout",
          "text": [
            "Python is a simple programming language\n"
          ]
        }
      ]
    },
    {
      "cell_type": "code",
      "metadata": {
        "id": "Pcf-sZ_UjAjM",
        "outputId": "52353057-8577-4770-e484-89bc3e95dc90",
        "colab": {
          "base_uri": "https://localhost:8080/"
        }
      },
      "source": [
        "print(s[0])"
      ],
      "execution_count": 19,
      "outputs": [
        {
          "output_type": "stream",
          "name": "stdout",
          "text": [
            "P\n"
          ]
        }
      ]
    },
    {
      "cell_type": "code",
      "source": [
        "s[-1]"
      ],
      "metadata": {
        "colab": {
          "base_uri": "https://localhost:8080/",
          "height": 35
        },
        "id": "-l68T0ohi6ol",
        "outputId": "1190afad-ae7a-46cc-bbaa-990e9379e8ea"
      },
      "execution_count": 22,
      "outputs": [
        {
          "output_type": "execute_result",
          "data": {
            "text/plain": [
              "'e'"
            ],
            "application/vnd.google.colaboratory.intrinsic+json": {
              "type": "string"
            }
          },
          "metadata": {},
          "execution_count": 22
        }
      ]
    },
    {
      "cell_type": "code",
      "metadata": {
        "id": "ajug377XjAjR",
        "outputId": "65f446a1-0f30-4085-bcfe-5a0bf8e31c4b",
        "colab": {
          "base_uri": "https://localhost:8080/",
          "height": 35
        }
      },
      "source": [
        "#slicing\n",
        "s[5:]"
      ],
      "execution_count": 23,
      "outputs": [
        {
          "output_type": "execute_result",
          "data": {
            "text/plain": [
              "'n is a simple programming language'"
            ],
            "application/vnd.google.colaboratory.intrinsic+json": {
              "type": "string"
            }
          },
          "metadata": {},
          "execution_count": 23
        }
      ]
    },
    {
      "cell_type": "markdown",
      "metadata": {
        "id": "q8EfPYofjAjX"
      },
      "source": [
        "# Python List"
      ]
    },
    {
      "cell_type": "markdown",
      "metadata": {
        "id": "HmvLG9uqjAjY"
      },
      "source": [
        "A list can be declared as, Items separated by commas are enclosed within brackets [ ].\n",
        "Lists are ordered and mutable(means can change).\n",
        "Lists allows duplicate values.\n",
        "List items can be of different datatypes.\n",
        "Lists are indexed and starts with index 0\n"
      ]
    },
    {
      "cell_type": "code",
      "metadata": {
        "id": "-5ZyYAWPjAjZ",
        "outputId": "78286587-68fa-4257-b733-dc4647e0ef80",
        "colab": {
          "base_uri": "https://localhost:8080/"
        }
      },
      "source": [
        "#print 2nd index element\n",
        "a = [1, 2, \"python\"]\n",
        "print(a[2])              "
      ],
      "execution_count": 25,
      "outputs": [
        {
          "output_type": "stream",
          "name": "stdout",
          "text": [
            "python\n"
          ]
        }
      ]
    },
    {
      "cell_type": "markdown",
      "metadata": {
        "id": "RxDNwaW9jAjd"
      },
      "source": [
        "Lists are mutable, meaning, value of elements of a list can be changed."
      ]
    },
    {
      "cell_type": "code",
      "metadata": {
        "id": "JqjN61NijAji",
        "outputId": "881211ea-c327-4f0c-a169-6a6206f562f3",
        "colab": {
          "base_uri": "https://localhost:8080/"
        }
      },
      "source": [
        "a[1] ='Machine Learning'\n",
        "print(a)"
      ],
      "execution_count": 26,
      "outputs": [
        {
          "output_type": "stream",
          "name": "stdout",
          "text": [
            "[1, 'Machine Learning', 'python']\n"
          ]
        }
      ]
    },
    {
      "cell_type": "markdown",
      "metadata": {
        "id": "1z43evhgjAjm"
      },
      "source": [
        "# Python Tuple"
      ]
    },
    {
      "cell_type": "markdown",
      "metadata": {
        "id": "hl-DNjIKjAjn"
      },
      "source": [
        "Tuple is similar to lists but the only diffrence is tuples are immutable i.e tuple items cannot be changed"
      ]
    },
    {
      "cell_type": "code",
      "metadata": {
        "id": "FtTKigm4jAjn"
      },
      "source": [
        "t = (100, 20.5, \"Python\")"
      ],
      "execution_count": 27,
      "outputs": []
    },
    {
      "cell_type": "code",
      "metadata": {
        "id": "FXwePsUjjAjs",
        "outputId": "fa1ecc91-5bff-46fb-fd40-34df426a2a87",
        "colab": {
          "base_uri": "https://localhost:8080/"
        }
      },
      "source": [
        "print(t[2]) #extract particular element"
      ],
      "execution_count": 29,
      "outputs": [
        {
          "output_type": "stream",
          "name": "stdout",
          "text": [
            "Python\n"
          ]
        }
      ]
    },
    {
      "cell_type": "code",
      "metadata": {
        "id": "HcmgwUWvjAjv",
        "outputId": "f27a4fc4-77bb-4e49-a34d-7e752fbaac42",
        "colab": {
          "base_uri": "https://localhost:8080/",
          "height": 165
        }
      },
      "source": [
        "t[2] = 'python machine learning'"
      ],
      "execution_count": 30,
      "outputs": [
        {
          "output_type": "error",
          "ename": "TypeError",
          "evalue": "ignored",
          "traceback": [
            "\u001b[0;31m---------------------------------------------------------------------------\u001b[0m",
            "\u001b[0;31mTypeError\u001b[0m                                 Traceback (most recent call last)",
            "\u001b[0;32m<ipython-input-30-1720f800623c>\u001b[0m in \u001b[0;36m<module>\u001b[0;34m\u001b[0m\n\u001b[0;32m----> 1\u001b[0;31m \u001b[0mt\u001b[0m\u001b[0;34m[\u001b[0m\u001b[0;36m2\u001b[0m\u001b[0;34m]\u001b[0m \u001b[0;34m=\u001b[0m \u001b[0;34m'python machine learning'\u001b[0m\u001b[0;34m\u001b[0m\u001b[0;34m\u001b[0m\u001b[0m\n\u001b[0m",
            "\u001b[0;31mTypeError\u001b[0m: 'tuple' object does not support item assignment"
          ]
        }
      ]
    },
    {
      "cell_type": "markdown",
      "metadata": {
        "id": "RUTK-g6rjAjz"
      },
      "source": [
        "# Python Set"
      ]
    },
    {
      "cell_type": "markdown",
      "metadata": {
        "id": "J8pDiqs1jAjz"
      },
      "source": [
        "Set is an unordered collection of items and  defined by values separated by comma inside braces { }. \n",
        "Set has Unique values i.e removes duplicates\n",
        "Items in a set are not ordered."
      ]
    },
    {
      "cell_type": "code",
      "metadata": {
        "id": "Pa8_taUijAj0",
        "outputId": "d3c13708-8fa8-475a-b511-33509c3f1663",
        "colab": {
          "base_uri": "https://localhost:8080/"
        }
      },
      "source": [
        "a = {1, 2, 2,3, 4, 5} #here a has two 2's but set didnt considered duplicate elements\n",
        "print(a)\n",
        "print(type(a))    "
      ],
      "execution_count": 34,
      "outputs": [
        {
          "output_type": "stream",
          "name": "stdout",
          "text": [
            "{1, 2, 3, 4, 5}\n",
            "<class 'set'>\n"
          ]
        }
      ]
    },
    {
      "cell_type": "markdown",
      "metadata": {
        "id": "-REyz-C-jAj8"
      },
      "source": [
        "We can perform set operations like union, intersection on two sets\n",
        "and set also doesnt support indexing\n",
        "> Indented block\n",
        "\n"
      ]
    },
    {
      "cell_type": "code",
      "source": [
        "# below example shows UNION operation using set\n",
        "x = {\"pandas\", \"numpy\", \"scikitlearn\"}\n",
        "y = {\"pyspark\", \"pandas\", \"bigquery\"}\n",
        "\n",
        "z = x.union(y)\n",
        "\n",
        "print(z)"
      ],
      "metadata": {
        "colab": {
          "base_uri": "https://localhost:8080/"
        },
        "id": "y-FatD9mmR8j",
        "outputId": "22448068-27af-42af-81f6-9db55ab81732"
      },
      "execution_count": 36,
      "outputs": [
        {
          "output_type": "stream",
          "name": "stdout",
          "text": [
            "{'numpy', 'pyspark', 'bigquery', 'pandas', 'scikitlearn'}\n"
          ]
        }
      ]
    },
    {
      "cell_type": "code",
      "source": [
        "# below example shows MINUS(x-y) operation using set\n",
        "x = {\"pandas\", \"numpy\", \"scikitlearn\"}\n",
        "y = {\"pyspark\", \"pandas\", \"bigquery\"}\n",
        "\n",
        "z = x.difference(y)\n",
        "print(z)"
      ],
      "metadata": {
        "colab": {
          "base_uri": "https://localhost:8080/"
        },
        "id": "l4PM8Xtsmf8x",
        "outputId": "59b59ffa-ea91-437d-cebb-daa112b58f07"
      },
      "execution_count": 41,
      "outputs": [
        {
          "output_type": "stream",
          "name": "stdout",
          "text": [
            "{'numpy', 'scikitlearn'}\n"
          ]
        }
      ]
    },
    {
      "cell_type": "code",
      "source": [
        "# below example shows INTERSECTION operation using set\n",
        "x = {\"pandas\", \"numpy\", \"scikitlearn\"}\n",
        "y = {\"pyspark\", \"pandas\", \"bigquery\"}\n",
        "\n",
        "z = y.difference(x)\n",
        "\n",
        "print(z)"
      ],
      "metadata": {
        "colab": {
          "base_uri": "https://localhost:8080/"
        },
        "id": "fElnnNRam188",
        "outputId": "57c86806-cc5e-438f-882c-b7d0d4b5c572"
      },
      "execution_count": 40,
      "outputs": [
        {
          "output_type": "stream",
          "name": "stdout",
          "text": [
            "{'pyspark', 'bigquery'}\n"
          ]
        }
      ]
    },
    {
      "cell_type": "code",
      "metadata": {
        "id": "8gA4UANbjAkA",
        "outputId": "234f8a35-d62b-4f35-e5a3-ae1e1d520082"
      },
      "source": [
        "print(s[1]) \n",
        "#we can't print particular element in set because \n",
        "            #it's unorder collections of items"
      ],
      "execution_count": null,
      "outputs": [
        {
          "output_type": "error",
          "ename": "TypeError",
          "evalue": "'set' object does not support indexing",
          "traceback": [
            "\u001b[0;31m---------------------------------------------------------------------------\u001b[0m",
            "\u001b[0;31mTypeError\u001b[0m                                 Traceback (most recent call last)",
            "\u001b[0;32m<ipython-input-23-ad7511dba6cd>\u001b[0m in \u001b[0;36m<module>\u001b[0;34m()\u001b[0m\n\u001b[0;32m----> 1\u001b[0;31m \u001b[0;32mprint\u001b[0m\u001b[0;34m(\u001b[0m\u001b[0ms\u001b[0m\u001b[0;34m[\u001b[0m\u001b[0;36m1\u001b[0m\u001b[0;34m]\u001b[0m\u001b[0;34m)\u001b[0m \u001b[0;31m#we can't print particular element in set because\u001b[0m\u001b[0;34m\u001b[0m\u001b[0m\n\u001b[0m\u001b[1;32m      2\u001b[0m             \u001b[0;31m#it's unorder collections of items\u001b[0m\u001b[0;34m\u001b[0m\u001b[0;34m\u001b[0m\u001b[0m\n",
            "\u001b[0;31mTypeError\u001b[0m: 'set' object does not support indexing"
          ]
        }
      ]
    },
    {
      "cell_type": "markdown",
      "metadata": {
        "id": "qcVbqDR0jAkE"
      },
      "source": [
        "# Python Dictionary"
      ]
    },
    {
      "cell_type": "markdown",
      "metadata": {
        "id": "W0R99yybjAkF"
      },
      "source": [
        "Dictionary is an unordered collection of key-value pairs.\n",
        "In Python, dictionaries are defined within braces {} with each item being a pair in the form key:value. Key and value can be of any type.\n",
        "\n"
      ]
    },
    {
      "cell_type": "code",
      "metadata": {
        "id": "2T9I2fD_jAkG",
        "outputId": "bc8a6acf-a36f-4c73-ed1d-30189cbd3485",
        "colab": {
          "base_uri": "https://localhost:8080/"
        }
      },
      "source": [
        "x = {'a': \"apple\", 'b': \"ball\"}\n",
        "print(x['a'])"
      ],
      "execution_count": 43,
      "outputs": [
        {
          "output_type": "stream",
          "name": "stdout",
          "text": [
            "apple\n"
          ]
        }
      ]
    },
    {
      "cell_type": "markdown",
      "metadata": {
        "id": "VAFPibx4jAkK"
      },
      "source": [
        "# Conversion between Datatypes"
      ]
    },
    {
      "cell_type": "markdown",
      "metadata": {
        "id": "Gr9LdKwUjAkK"
      },
      "source": [
        "We can convert between different data types by using different type conversion functions like int(), float(), str() etc."
      ]
    },
    {
      "cell_type": "code",
      "metadata": {
        "id": "C7Hm3GjUjAkL",
        "outputId": "09b91390-f878-4951-9555-8a0b64ba3c5f"
      },
      "source": [
        "float(5)     #convert interger to float using float() method"
      ],
      "execution_count": null,
      "outputs": [
        {
          "output_type": "execute_result",
          "data": {
            "text/plain": [
              "5.0"
            ]
          },
          "metadata": {
            "tags": []
          },
          "execution_count": 26
        }
      ]
    },
    {
      "cell_type": "code",
      "metadata": {
        "id": "qOQdGOo9jAkO",
        "outputId": "9422f2b0-3c1a-4604-de77-6cf0592c1d50"
      },
      "source": [
        "int(100.5)   #convert float to integer using int() method"
      ],
      "execution_count": null,
      "outputs": [
        {
          "output_type": "execute_result",
          "data": {
            "text/plain": [
              "100"
            ]
          },
          "metadata": {
            "tags": []
          },
          "execution_count": 25
        }
      ]
    },
    {
      "cell_type": "code",
      "metadata": {
        "id": "j_YHvzHjjAkR",
        "outputId": "fccee2e4-fe13-4a7f-c435-ab1c604a477e"
      },
      "source": [
        "str(20)      #convert integer to stringS"
      ],
      "execution_count": null,
      "outputs": [
        {
          "output_type": "execute_result",
          "data": {
            "text/plain": [
              "'20'"
            ]
          },
          "metadata": {
            "tags": []
          },
          "execution_count": 24
        }
      ]
    },
    {
      "cell_type": "markdown",
      "metadata": {
        "id": "fQlmdkWZjAkV"
      },
      "source": [
        "Conversion to and from string must contain compatible values."
      ]
    },
    {
      "cell_type": "code",
      "metadata": {
        "id": "rmZTUGvNjAkW",
        "outputId": "a667a396-4466-486e-c59a-e10a78691d7e",
        "colab": {
          "base_uri": "https://localhost:8080/",
          "height": 165
        }
      },
      "source": [
        "int('p7')"
      ],
      "execution_count": 50,
      "outputs": [
        {
          "output_type": "error",
          "ename": "ValueError",
          "evalue": "ignored",
          "traceback": [
            "\u001b[0;31m---------------------------------------------------------------------------\u001b[0m",
            "\u001b[0;31mValueError\u001b[0m                                Traceback (most recent call last)",
            "\u001b[0;32m<ipython-input-50-334f46174377>\u001b[0m in \u001b[0;36m<module>\u001b[0;34m\u001b[0m\n\u001b[0;32m----> 1\u001b[0;31m \u001b[0mint\u001b[0m\u001b[0;34m(\u001b[0m\u001b[0;34m'p7'\u001b[0m\u001b[0;34m)\u001b[0m\u001b[0;34m\u001b[0m\u001b[0;34m\u001b[0m\u001b[0m\n\u001b[0m",
            "\u001b[0;31mValueError\u001b[0m: invalid literal for int() with base 10: 'p7'"
          ]
        }
      ]
    },
    {
      "cell_type": "code",
      "metadata": {
        "id": "ySebSJL4jAka",
        "outputId": "a72e5d5c-f6f2-4987-e189-cb5b18b7eebc",
        "colab": {
          "base_uri": "https://localhost:8080/"
        }
      },
      "source": [
        "user = \"Gangababu\"\n",
        "day = 1\n",
        "\n",
        "\n",
        "print(\"Congratulations, \" + user + \"! You just started \" + str(day) + \"st day of python programming\" )\n",
        "#remove str and gives error"
      ],
      "execution_count": 49,
      "outputs": [
        {
          "output_type": "stream",
          "name": "stdout",
          "text": [
            "Congratulations, Gangababu! You just started 1st day of python programming\n"
          ]
        }
      ]
    },
    {
      "cell_type": "markdown",
      "metadata": {
        "id": "b70t71oHjAke"
      },
      "source": [
        "We can convert one sequence to other"
      ]
    },
    {
      "cell_type": "code",
      "metadata": {
        "id": "X8JVo21VjAkf",
        "outputId": "6029bfdc-df0e-4c89-dcda-70054ae074a0",
        "colab": {
          "base_uri": "https://localhost:8080/"
        }
      },
      "source": [
        "a = [10, 20, 30]\n",
        "\n",
        "print(type(a))      #type of a is list \n",
        "\n",
        "s = set(a)          #convert list to set using set() method\n",
        "\n",
        "print(type(s))      #now type of s is set"
      ],
      "execution_count": 46,
      "outputs": [
        {
          "output_type": "stream",
          "name": "stdout",
          "text": [
            "<class 'list'>\n",
            "<class 'set'>\n"
          ]
        }
      ]
    },
    {
      "cell_type": "code",
      "metadata": {
        "id": "_Uhx5L4AjAkm",
        "outputId": "262d6144-d7c7-4b53-ab05-830f96d9f509",
        "colab": {
          "base_uri": "https://localhost:8080/"
        }
      },
      "source": [
        "set(\"Hello\")       #convert String to set using set() method"
      ],
      "execution_count": 45,
      "outputs": [
        {
          "output_type": "execute_result",
          "data": {
            "text/plain": [
              "{'H', 'e', 'l', 'o'}"
            ]
          },
          "metadata": {},
          "execution_count": 45
        }
      ]
    },
    {
      "cell_type": "code",
      "source": [],
      "metadata": {
        "id": "hTj4L86UntRU"
      },
      "execution_count": null,
      "outputs": []
    }
  ]
}